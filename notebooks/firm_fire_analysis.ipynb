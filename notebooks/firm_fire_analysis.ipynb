{
 "cells": [
  {
   "cell_type": "code",
   "execution_count": null,
   "metadata": {},
   "outputs": [],
   "source": [
    "import ee \n",
    "import geemap\n",
    "import os\n",
    "\n",
    "ee.Initialize()"
   ]
  },
  {
   "cell_type": "code",
   "execution_count": null,
   "metadata": {},
   "outputs": [],
   "source": [
    "print(os.getcwd())\n",
    "india_shape = \"../data/gadm/gadm36_IND_1.shp\""
   ]
  },
  {
   "cell_type": "code",
   "execution_count": null,
   "metadata": {},
   "outputs": [],
   "source": [
    "import geopandas as gpd\n",
    "import matplotlib.pyplot as plt\n",
    "import sys \n",
    "sys.path.insert(0, '../src/')\n",
    "%matplotlib inline\n",
    "india_gpd = gpd.read_file(india_shape)\n",
    "india_gpd.plot()"
   ]
  },
  {
   "cell_type": "code",
   "execution_count": null,
   "metadata": {},
   "outputs": [],
   "source": [
    "# Extract a specific state of india by name\n",
    "import extract_gadm_data as egd\n",
    "\n",
    "punjab_gdf = egd.extract_state_dataframe(india_gpd, 'Punjab')\n",
    "punjab_gdf.plot()"
   ]
  },
  {
   "cell_type": "code",
   "execution_count": null,
   "metadata": {},
   "outputs": [],
   "source": [
    "# Compute the extents of Punjab\n",
    "punjab_extents = egd.region_extents(punjab_gdf)\n",
    "print(punjab_extents)"
   ]
  },
  {
   "cell_type": "markdown",
   "metadata": {},
   "source": [
    "## Create an interactive Map"
   ]
  },
  {
   "cell_type": "code",
   "execution_count": null,
   "metadata": {},
   "outputs": [],
   "source": [
    "punjab_centre = egd.compute_center_from_extents(punjab_extents)\n",
    "Map = geemap.Map(center=punjab_centre, zoom=6)\n",
    "Map"
   ]
  },
  {
   "cell_type": "code",
   "execution_count": null,
   "metadata": {},
   "outputs": [],
   "source": [
    "# Create bounding box for Punjab state and get the FIRMS collection for September 2021\n",
    "punjab_bbox = egd.get_region_bounding_box(punjab_extents)\n",
    "punjab_polygon = ee.Geometry.Polygon([[list(punjab_bbox[0]), list(punjab_bbox[1]), list(punjab_bbox[2]), list(punjab_bbox[3]), list(punjab_bbox[0])]])\n",
    "punjab_collection = ee.ImageCollection('FIRMS').filterDate('2021-09-01', '2021-09-30').filterBounds(punjab_polygon)"
   ]
  },
  {
   "cell_type": "code",
   "execution_count": null,
   "metadata": {},
   "outputs": [],
   "source": [
    "# Get corresponding Satellite images\n",
    "punjab_satellite_collection = ee.ImageCollection('NOAA/VIIRS/001/VNP09GA').filterDate('2021-09-01', '2021-09-30').filterBounds(punjab_polygon)\n",
    "rgb = punjab_satellite_collection.select(['M5', 'M4', 'M3'])\n",
    "rgbVis = {'min':0.0, 'max': 3000.0}\n",
    "Map.addLayer(rgb, rgbVis, 'RGB')"
   ]
  },
  {
   "cell_type": "code",
   "execution_count": null,
   "metadata": {},
   "outputs": [],
   "source": [
    "fires = punjab_collection.select('T21')\n",
    "fireVis = {'min': 300.0, 'max': 509.29, 'palette':['red', 'orange', 'yellow']}\n",
    "Map.addLayer(fires, fireVis, 'Fires')"
   ]
  },
  {
   "cell_type": "code",
   "execution_count": null,
   "metadata": {},
   "outputs": [],
   "source": [
    "# Plotting the extents polygon on the map.\n",
    "Map.centerObject(punjab_polygon)\n",
    "Map.addLayer(punjab_polygon, {'color': '00000000'}, 'geodesic_polygon')\n",
    "punjab_planar_polygon = ee.Geometry(punjab_polygon, 0, False)\n",
    "Map.addLayer(punjab_planar_polygon, {'color': '00000000'}, 'planar polygon')"
   ]
  },
  {
   "cell_type": "code",
   "execution_count": null,
   "metadata": {},
   "outputs": [],
   "source": []
  }
 ],
 "metadata": {
  "interpreter": {
   "hash": "a17636cc758e01828e575624d84d92e390d3c920974b85502b3cafbcf7334dfe"
  },
  "kernelspec": {
   "display_name": "Python 3.8.10 64-bit ('energy_harvest_trust-NuK-M-T9': pipenv)",
   "name": "python3"
  },
  "language_info": {
   "codemirror_mode": {
    "name": "ipython",
    "version": 3
   },
   "file_extension": ".py",
   "mimetype": "text/x-python",
   "name": "python",
   "nbconvert_exporter": "python",
   "pygments_lexer": "ipython3",
   "version": "3.8.10"
  },
  "orig_nbformat": 4
 },
 "nbformat": 4,
 "nbformat_minor": 2
}
